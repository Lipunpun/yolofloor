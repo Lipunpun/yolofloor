{
 "cells": [
  {
   "cell_type": "code",
   "execution_count": 13,
   "metadata": {},
   "outputs": [
    {
     "ename": "TypeError",
     "evalue": "'dict' object is not callable",
     "output_type": "error",
     "traceback": [
      "\u001b[1;31m---------------------------------------------------------------------------\u001b[0m",
      "\u001b[1;31mTypeError\u001b[0m                                 Traceback (most recent call last)",
      "Cell \u001b[1;32mIn[13], line 8\u001b[0m\n\u001b[0;32m      4\u001b[0m model \u001b[38;5;241m=\u001b[39m torch\u001b[38;5;241m.\u001b[39mload(\u001b[38;5;124m\"\u001b[39m\u001b[38;5;124m../runs/train/exp2/weights/best.pt\u001b[39m\u001b[38;5;124m\"\u001b[39m)\n\u001b[0;32m      6\u001b[0m img \u001b[38;5;241m=\u001b[39m \u001b[38;5;124m\"\u001b[39m\u001b[38;5;124m../data/images/1.png\u001b[39m\u001b[38;5;124m\"\u001b[39m\n\u001b[1;32m----> 8\u001b[0m results \u001b[38;5;241m=\u001b[39m \u001b[43mmodel\u001b[49m\u001b[43m(\u001b[49m\u001b[43mimg\u001b[49m\u001b[43m)\u001b[49m\n\u001b[0;32m     10\u001b[0m results\u001b[38;5;241m.\u001b[39mshow()\n",
      "\u001b[1;31mTypeError\u001b[0m: 'dict' object is not callable"
     ]
    }
   ],
   "source": [
    "import torch\n",
    "\n",
    "# 載入模型\n",
    "model = torch.load(\"../runs/train/exp2/weights/best.pt\")\n",
    "\n",
    "img = \"../data/images/1.png\"\n",
    "\n",
    "results = model(img)\n",
    "\n",
    "results.show()"
   ]
  },
  {
   "cell_type": "code",
   "execution_count": 7,
   "metadata": {},
   "outputs": [
    {
     "name": "stdout",
     "output_type": "stream",
     "text": [
      "執行成功！\n",
      "輸出： \n"
     ]
    }
   ],
   "source": [
    "import subprocess\n",
    "\n",
    "# 要執行的命令及參數\n",
    "command = [\"python\", \"detect.py\", \"--save-txt\"]\n",
    "\n",
    "# 使用 subprocess 模組執行命令\n",
    "process = subprocess.Popen(command, stdout=subprocess.PIPE, stderr=subprocess.PIPE)\n",
    "\n",
    "# 等待命令執行完成\n",
    "stdout, stderr = process.communicate()\n",
    "\n",
    "# 檢查執行結果\n",
    "if process.returncode == 0:\n",
    "    print(\"執行成功！\")\n",
    "    print(\"輸出：\", stdout.decode())\n",
    "else:\n",
    "    print(\"執行失敗！\")\n",
    "    print(\"錯誤信息：\", stderr.decode())\n",
    "\n"
   ]
  },
  {
   "cell_type": "code",
   "execution_count": 16,
   "metadata": {},
   "outputs": [
    {
     "name": "stdout",
     "output_type": "stream",
     "text": [
      "Ycenter座標接近的bounding box數量： 8\n",
      "Xcenter座標接近的bounding box數量： 8\n"
     ]
    }
   ],
   "source": [
    "# 開啟標註檔案\n",
    "with open('./test.txt', 'r') as f:\n",
    "    lines = f.readlines()\n",
    "\n",
    "# 設置接近的閾值\n",
    "threshold = 0.02\n",
    "\n",
    "# 初始化計數器\n",
    "x_count_close_boxes = 0\n",
    "y_count_close_boxes = 0\n",
    "\n",
    "# 讀取每一行標註\n",
    "for line in lines:\n",
    "    # 將每一行標註拆分為不同的數值\n",
    "    class_label, x_center, y_center, width, height = map(float, line.split())\n",
    "\n",
    "    # 計算中心座標接近的bounding box數量\n",
    "    for other_line in lines:\n",
    "        other_class_label, other_x_center, other_y_center, other_width, other_height = map(float, other_line.split())\n",
    "        if abs(y_center - other_y_center) <= threshold:\n",
    "            y_count_close_boxes += 1\n",
    "            break  # 避免重複計算\n",
    "        \n",
    "    for other_line in lines:\n",
    "        other_class_label, other_x_center, other_y_center, other_width, other_height = map(float, other_line.split())\n",
    "        if abs(x_center - other_x_center) <= threshold:\n",
    "            x_count_close_boxes += 1\n",
    "            break  # 避免重複計算\n",
    "\n",
    "print(\"Ycenter座標接近的bounding box數量：\", y_count_close_boxes)\n",
    "print(\"Xcenter座標接近的bounding box數量：\", x_count_close_boxes)"
   ]
  },
  {
   "cell_type": "code",
   "execution_count": 2,
   "metadata": {},
   "outputs": [
    {
     "name": "stdout",
     "output_type": "stream",
     "text": [
      "[0.193359, 0.205078, 0.21875, 0.230469, 0.564453, 0.605469, 0.669922, 0.693359]\n",
      "有 3 組 bounding box 的 x_center 座標接近。\n",
      "有 4 組 bounding box 的 y_center 座標接近。\n"
     ]
    }
   ],
   "source": [
    "# 讀取 YOLO 標註的 .txt 檔案\n",
    "with open(\"./test.txt\", \"r\") as file:\n",
    "    lines = file.readlines()\n",
    "\n",
    "# 儲存 bounding box 的 x,y_center 座標\n",
    "y_centers = []\n",
    "x_centers = []\n",
    "\n",
    "# 解析每一行標註\n",
    "for line in lines:\n",
    "    class_label, x_center, y_center, width, height = map(float, line.split())\n",
    "    x_centers.append(x_center)\n",
    "    y_centers.append(y_center)\n",
    "\n",
    "if class_label == 0:\n",
    "    \n",
    "    # 將 y_center 座標排序\n",
    "    y_centers.sort()\n",
    "    x_centers.sort()\n",
    "\n",
    "    print(x_centers)\n",
    "\n",
    "    # 初始化計數器\n",
    "    x_group_count = 0\n",
    "    y_group_count = 0\n",
    "\n",
    "    # 檢查 x_center 座標是否接近彼此的 bounding box\n",
    "    for i in range(len(x_centers) - 1):\n",
    "        if abs(x_centers[i] - x_centers[i + 1]) <= 0.02:\n",
    "            x_group_count += 1\n",
    "\n",
    "\n",
    "    # 檢查 y_center 座標是否接近彼此的 bounding box\n",
    "    for i in range(len(y_centers) - 1):\n",
    "        if abs(y_centers[i] - y_centers[i + 1]) <= 0.02:\n",
    "            y_group_count += 1\n",
    "\n",
    "    print(\"有\", x_group_count, \"組 bounding box 的 x_center 座標接近。\")\n",
    "    print(\"有\", y_group_count, \"組 bounding box 的 y_center 座標接近。\")"
   ]
  },
  {
   "cell_type": "code",
   "execution_count": 14,
   "metadata": {},
   "outputs": [
    {
     "ename": "ModuleNotFoundError",
     "evalue": "No module named 'yolov5'",
     "output_type": "error",
     "traceback": [
      "\u001b[1;31m---------------------------------------------------------------------------\u001b[0m",
      "\u001b[1;31mModuleNotFoundError\u001b[0m                       Traceback (most recent call last)",
      "Cell \u001b[1;32mIn[14], line 4\u001b[0m\n\u001b[0;32m      2\u001b[0m \u001b[38;5;28;01mfrom\u001b[39;00m \u001b[38;5;21;01mPIL\u001b[39;00m \u001b[38;5;28;01mimport\u001b[39;00m Image\n\u001b[0;32m      3\u001b[0m \u001b[38;5;28;01mfrom\u001b[39;00m \u001b[38;5;21;01mtorchvision\u001b[39;00m\u001b[38;5;21;01m.\u001b[39;00m\u001b[38;5;21;01mtransforms\u001b[39;00m \u001b[38;5;28;01mimport\u001b[39;00m functional \u001b[38;5;28;01mas\u001b[39;00m F\n\u001b[1;32m----> 4\u001b[0m \u001b[38;5;28;01mfrom\u001b[39;00m \u001b[38;5;21;01myolov5\u001b[39;00m\u001b[38;5;21;01m.\u001b[39;00m\u001b[38;5;21;01mmodels\u001b[39;00m\u001b[38;5;21;01m.\u001b[39;00m\u001b[38;5;21;01mexperimental\u001b[39;00m \u001b[38;5;28;01mimport\u001b[39;00m attempt_load\n\u001b[0;32m      5\u001b[0m \u001b[38;5;28;01mfrom\u001b[39;00m \u001b[38;5;21;01myolov5\u001b[39;00m\u001b[38;5;21;01m.\u001b[39;00m\u001b[38;5;21;01mutils\u001b[39;00m\u001b[38;5;21;01m.\u001b[39;00m\u001b[38;5;21;01mgeneral\u001b[39;00m \u001b[38;5;28;01mimport\u001b[39;00m non_max_suppression, scale_coords\n\u001b[0;32m      6\u001b[0m \u001b[38;5;28;01mfrom\u001b[39;00m \u001b[38;5;21;01myolov5\u001b[39;00m\u001b[38;5;21;01m.\u001b[39;00m\u001b[38;5;21;01mutils\u001b[39;00m\u001b[38;5;21;01m.\u001b[39;00m\u001b[38;5;21;01mplots\u001b[39;00m \u001b[38;5;28;01mimport\u001b[39;00m plot_one_box\n",
      "\u001b[1;31mModuleNotFoundError\u001b[0m: No module named 'yolov5'"
     ]
    }
   ],
   "source": [
    "import torch\n",
    "from PIL import Image\n",
    "from torchvision.transforms import functional as F\n",
    "from yolov5.models.experimental import attempt_load\n",
    "from yolov5.utils.general import non_max_suppression, scale_coords\n",
    "from yolov5.utils.plots import plot_one_box\n",
    "\n",
    "# Load YOLOv5 model\n",
    "model = attempt_load(\"../runs/train/exp2/weights/best.pt\", map_location=torch.device('cpu'))\n",
    "\n",
    "# Set model to evaluation mode\n",
    "model.eval()\n",
    "\n",
    "# Load image\n",
    "img = Image.open(\"../data/images/1.png\")\n",
    "img_tensor = F.to_tensor(img).unsqueeze(0)  # Add batch dimension\n",
    "\n",
    "# Perform inference\n",
    "with torch.no_grad():\n",
    "    outputs = model(img_tensor)\n",
    "\n",
    "# Post-process the outputs\n",
    "results = non_max_suppression(outputs, conf_thres=0.4, iou_thres=0.5)\n",
    "\n",
    "# Plot results\n",
    "if results[0] is not None:\n",
    "    for x1, y1, x2, y2, conf, cls_conf, cls_pred in results[0]:\n",
    "        plot_one_box((x1, y1, x2, y2), img, label=f'{int(cls_pred)} {conf:.2f}')\n",
    "\n",
    "# Display image with bounding boxess\n",
    "img.show()\n"
   ]
  },
  {
   "cell_type": "code",
   "execution_count": null,
   "metadata": {},
   "outputs": [],
   "source": []
  }
 ],
 "metadata": {
  "kernelspec": {
   "display_name": "YoloV5",
   "language": "python",
   "name": "python3"
  },
  "language_info": {
   "codemirror_mode": {
    "name": "ipython",
    "version": 3
   },
   "file_extension": ".py",
   "mimetype": "text/x-python",
   "name": "python",
   "nbconvert_exporter": "python",
   "pygments_lexer": "ipython3",
   "version": "3.9.18"
  }
 },
 "nbformat": 4,
 "nbformat_minor": 2
}
