{
 "cells": [
  {
   "cell_type": "code",
   "execution_count": 1,
   "metadata": {},
   "outputs": [
    {
     "name": "stdout",
     "output_type": "stream",
     "text": [
      "執行成功！\n",
      "輸出： \n",
      "exp10\n"
     ]
    }
   ],
   "source": [
    "import os\n",
    "import subprocess\n",
    "\n",
    "# 要執行的命令及參數\n",
    "command = [\"python\", \"./detect.py\",\"--weights\", \"runs/train/exp2/weights/best.pt\",\"--source\",\"data/images/5.png\", \"--save-txt\"]\n",
    "\n",
    "# 使用 subprocess 模組執行命令\n",
    "process = subprocess.Popen(command, stdout=subprocess.PIPE, stderr=subprocess.PIPE)\n",
    "\n",
    "# 等待命令執行完成\n",
    "stdout, stderr = process.communicate()\n",
    "\n",
    "# 檢查執行結果\n",
    "if process.returncode == 0:\n",
    "    print(\"執行成功！\")\n",
    "    print(\"輸出：\", stdout.decode())\n",
    "else:\n",
    "    print(\"執行失敗！\")\n",
    "    print(\"錯誤信息：\", stderr.decode())\n",
    "\n",
    "# 定義結果保存的根目錄\n",
    "results_dir = \"runs/detect/\"\n",
    "\n",
    "# 列出目錄中的所有文件和文件夾\n",
    "contents = os.listdir(results_dir)\n",
    "\n",
    "# 找到最新生成的目錄\n",
    "latest_exp_dir = max(contents, key=lambda x: os.path.getctime(os.path.join(results_dir, x)))\n",
    "\n",
    "print(latest_exp_dir)"
   ]
  },
  {
   "cell_type": "code",
   "execution_count": 2,
   "metadata": {},
   "outputs": [
    {
     "name": "stdout",
     "output_type": "stream",
     "text": [
      "./runs\\detect\\exp10\\labels\\5.txt\n",
      "此建築為 2 跨 3 層\n"
     ]
    }
   ],
   "source": [
    "import glob\n",
    "\n",
    "# 使用 os.path.join 組合路徑\n",
    "folder_path = os.path.join(\"./runs\", \"detect\", latest_exp_dir, \"labels\")\n",
    "search_path = os.path.join(folder_path, \"*.txt\")\n",
    "\n",
    "# 列出所有 .txt 文件\n",
    "all_txt_files = glob.glob(search_path)\n",
    "\n",
    "for txt_file in all_txt_files:\n",
    "    with open(txt_file, \"r\") as file:\n",
    "        lines = file.readlines()\n",
    "\n",
    "    print(txt_file)\n",
    "    # 儲存 bounding box 的 x_center 座標\n",
    "    x_centers = []\n",
    "    y_centers = []\n",
    "\n",
    "    # 解析每一行標註\n",
    "    for line in lines:\n",
    "        class_label, x_center, y_center, width, height = map(float, line.split())\n",
    "\n",
    "        x_centers.append(x_center)\n",
    "        y_centers.append(y_center)\n",
    "\n",
    "\n",
    "    # 將 y_center 座標排序\n",
    "    y_centers.sort()\n",
    "    x_centers.sort()\n",
    "\n",
    "    # 初始化計數器\n",
    "    x_group_count = 0\n",
    "    y_group_count = 0\n",
    "\n",
    "    x_group_tolerance = 0.2  # x分組容忍度\n",
    "    y_group_tolerance = 0.02  # y分組容忍度\n",
    "\n",
    "    x_current_group = [x_centers[0]]  # 目前的分組\n",
    "    y_current_group = [y_centers[0]]  # 目前的分組\n",
    "\n",
    "    # 檢查 x_center 座標是否接近彼此的 bounding box\n",
    "    for i in range(1, len(x_centers)):\n",
    "        if abs(x_centers[i] - x_current_group[-1]) <= x_group_tolerance:\n",
    "            x_current_group.append(x_centers[i])  # 將 x_center 加入目前的分組\n",
    "        else:\n",
    "            x_group_count += 1\n",
    "\n",
    "            # print(f\"Group {x_group_count}: {x_current_group}\")  # 印出目前的分組\n",
    "\n",
    "            x_current_group = [x_centers[i]]  # 開始新的分組\n",
    "\n",
    "    # 印出最後一組\n",
    "    if x_current_group:\n",
    "        x_group_count += 1\n",
    "        \n",
    "        # print(f\"Group {x_group_count}: {x_current_group}\")\n",
    "\n",
    "    # print(\"共有\", x_group_count, \"組 bounding box 的 x_center 座標接近。\")\n",
    "\n",
    "    # 檢查 y_center 座標是否接近彼此的 bounding box\n",
    "    for i in range(1, len(y_centers)):\n",
    "        if abs(y_centers[i] - y_current_group[-1]) <= y_group_tolerance:\n",
    "            y_current_group.append(y_centers[i])  # 將 x_center 加入目前的分組\n",
    "        else:\n",
    "            y_group_count += 1\n",
    "            \n",
    "            # print(f\"Group {y_group_count}: {y_current_group}\")  # 印出目前的分組\n",
    "            \n",
    "            y_current_group = [y_centers[i]]  # 開始新的分組\n",
    "\n",
    "    # 印出最後一組\n",
    "    if y_current_group:\n",
    "        y_group_count += 1\n",
    "        \n",
    "        # print(f\"Group {y_group_count}: {y_current_group}\")\n",
    "        \n",
    "    # print(\"共有\", y_group_count, \"組 bounding box 的 y_center 座標接近。\")\n",
    "\n",
    "    print(\"此建築為\",x_group_count,\"跨\",y_group_count,\"層\")"
   ]
  },
  {
   "cell_type": "code",
   "execution_count": 4,
   "metadata": {},
   "outputs": [
    {
     "name": "stdout",
     "output_type": "stream",
     "text": [
      "Excel 文件更新成功！\n"
     ]
    }
   ],
   "source": [
    "from openpyxl import load_workbook\n",
    "\n",
    "# 读取 Excel 文件\n",
    "file_path = r\"C:\\\\Users\\\\user\\\\Desktop\\\\Data_Base_kun\\\\輸入模型資料.xlsx\"\n",
    "# 载入工作簿\n",
    "workbook = load_workbook(file_path)\n",
    "\n",
    "# 选择要修改的工作表\n",
    "sheet = workbook['建築資訊']  # 替换为您的实际 sheet 名称\n",
    "\n",
    "# 修改特定单元格的值\n",
    "sheet.cell(row=2, column=2).value = y_group_count  # 修改楼层数 (A2)\n",
    "sheet.cell(row=3, column=2).value = x_group_count  # 修改跨数 (A3)\n",
    "\n",
    "# 保存修改后的工作簿\n",
    "workbook.save(file_path)\n",
    "\n",
    "print(\"Excel 文件更新成功！\")"
   ]
  },
  {
   "cell_type": "code",
   "execution_count": null,
   "metadata": {},
   "outputs": [],
   "source": []
  }
 ],
 "metadata": {
  "kernelspec": {
   "display_name": "YoloV5",
   "language": "python",
   "name": "python3"
  },
  "language_info": {
   "codemirror_mode": {
    "name": "ipython",
    "version": 3
   },
   "file_extension": ".py",
   "mimetype": "text/x-python",
   "name": "python",
   "nbconvert_exporter": "python",
   "pygments_lexer": "ipython3",
   "version": "3.9.18"
  }
 },
 "nbformat": 4,
 "nbformat_minor": 2
}
